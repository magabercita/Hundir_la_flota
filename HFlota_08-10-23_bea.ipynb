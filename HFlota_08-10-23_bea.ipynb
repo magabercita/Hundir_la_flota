{
 "cells": [
  {
   "cell_type": "code",
   "execution_count": 2,
   "metadata": {},
   "outputs": [],
   "source": [
    "import numpy as np\n",
    "import random"
   ]
  },
  {
   "cell_type": "code",
   "execution_count": 77,
   "metadata": {},
   "outputs": [],
   "source": [
    "#tablero = np.full((10,10), \" \")"
   ]
  },
  {
   "cell_type": "code",
   "execution_count": 74,
   "metadata": {},
   "outputs": [],
   "source": [
    "# coord_fila = np.random.randint(0, 10)\n",
    "# coord_col = np.random.randint(0, 10)"
   ]
  },
  {
   "cell_type": "code",
   "execution_count": 361,
   "metadata": {},
   "outputs": [
    {
     "name": "stdout",
     "output_type": "stream",
     "text": [
      "La fila es 0, la columna y es 8, el barco está en h\n",
      "Se ha metido por el primer IF\n",
      "Ha salido horizontal\n"
     ]
    },
    {
     "data": {
      "text/plain": [
       "array([[' ', ' ', ' ', ' ', ' ', ' ', ' ', 'B', 'B', 'B'],\n",
       "       [' ', ' ', ' ', ' ', ' ', ' ', ' ', ' ', ' ', ' '],\n",
       "       [' ', ' ', ' ', ' ', ' ', ' ', ' ', ' ', ' ', ' '],\n",
       "       [' ', ' ', ' ', ' ', ' ', ' ', ' ', ' ', ' ', ' '],\n",
       "       [' ', ' ', ' ', ' ', ' ', ' ', ' ', ' ', ' ', ' '],\n",
       "       [' ', ' ', ' ', ' ', ' ', ' ', ' ', ' ', ' ', ' '],\n",
       "       [' ', ' ', ' ', ' ', ' ', ' ', ' ', ' ', ' ', ' '],\n",
       "       [' ', ' ', ' ', ' ', ' ', ' ', ' ', ' ', ' ', ' '],\n",
       "       [' ', ' ', ' ', ' ', ' ', ' ', ' ', ' ', ' ', ' '],\n",
       "       [' ', ' ', ' ', ' ', ' ', ' ', ' ', ' ', ' ', ' ']], dtype='<U1')"
      ]
     },
     "execution_count": 361,
     "metadata": {},
     "output_type": "execute_result"
    }
   ],
   "source": [
    "tablero = np.full((10,10), \" \")\n",
    "\n",
    "coord_fila = np.random.randint(0, 10)\n",
    "coord_col = np.random.randint(0, 10)\n",
    "\n",
    "tamano_barco3 = 3\n",
    "hv = np.random.choice([\"v\", \"h\"])\n",
    "hv\n",
    "\n",
    "print(f\"La fila es {coord_fila}, la columna y es {coord_col}, el barco está en {hv}\")\n",
    "\n",
    "longitud_x = coord_col + tamano_barco3\n",
    "longitud_y = coord_fila + tamano_barco3\n",
    "\n",
    "#CONDICIONES PARA QUE NO SE SALGA EL BARCO DEL TABLERO\n",
    "if hv == \"h\":\n",
    "    if (longitud_x > 9) or (longitud_x < 0):\n",
    "        coord_col = np.random.randint(0, 11-tamano_barco3)          #el 11 es excluyente. Si pongo 10 y le resto el tamaño de barco, nunca llegará el barco a tocar la columna 9 que sería la última\n",
    "        longitud_x = coord_col + tamano_barco3                      #así nos evitamos cambiar el código de este randint por cada barco\n",
    "        print(\"Se ha metido por el primer IF\")\n",
    "\n",
    "if hv == \"v\":\n",
    "    if (longitud_y > 9) or (longitud_y < 0):\n",
    "        coord_fila = np.random.randint(0, 11-tamano_barco3)\n",
    "        longitud_y = coord_fila + tamano_barco3\n",
    "        print(\"Se ha metido por el segundo IF\")\n",
    "\n",
    "\n",
    "#PARA MOSTRAR BARCO EN TABLERO   \n",
    "if hv == \"h\":\n",
    "    print(\"Ha salido horizontal\")\n",
    "    tablero[coord_fila, coord_col:longitud_x] = 'B'\n",
    "elif hv == \"v\":\n",
    "    print(\"Ha salido vertical\")\n",
    "    tablero[coord_fila:longitud_y, coord_col] = 'B'\n",
    "\n",
    "tablero"
   ]
  }
 ],
 "metadata": {
  "kernelspec": {
   "display_name": "eda_env",
   "language": "python",
   "name": "python3"
  },
  "language_info": {
   "codemirror_mode": {
    "name": "ipython",
    "version": 3
   },
   "file_extension": ".py",
   "mimetype": "text/x-python",
   "name": "python",
   "nbconvert_exporter": "python",
   "pygments_lexer": "ipython3",
   "version": "3.9.18"
  }
 },
 "nbformat": 4,
 "nbformat_minor": 2
}
