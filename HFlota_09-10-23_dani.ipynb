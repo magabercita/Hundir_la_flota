{
 "cells": [
  {
   "cell_type": "markdown",
   "metadata": {},
   "source": [
    "He cogido tu version del 08-10 y le he quitado primero los ifs de condiciones para que no se salga el barco"
   ]
  },
  {
   "cell_type": "markdown",
   "metadata": {},
   "source": [
    "no entiendo por que te has complicado poniendo el 11 - tamaño barco"
   ]
  },
  {
   "cell_type": "code",
   "execution_count": 125,
   "metadata": {},
   "outputs": [
    {
     "name": "stdout",
     "output_type": "stream",
     "text": [
      "La fila es 7, la columna y es 6, el barco está en v\n",
      "Se ha metido por el segundo IF\n",
      "Ha salido vertical\n"
     ]
    },
    {
     "data": {
      "text/plain": [
       "array([[' ', ' ', ' ', ' ', ' ', ' ', ' ', ' ', ' ', ' '],\n",
       "       [' ', ' ', ' ', ' ', ' ', ' ', ' ', ' ', ' ', ' '],\n",
       "       [' ', ' ', ' ', ' ', ' ', ' ', 'B', ' ', ' ', ' '],\n",
       "       [' ', ' ', ' ', ' ', ' ', ' ', 'B', ' ', ' ', ' '],\n",
       "       [' ', ' ', ' ', ' ', ' ', ' ', 'B', ' ', ' ', ' '],\n",
       "       [' ', ' ', ' ', ' ', ' ', ' ', ' ', ' ', ' ', ' '],\n",
       "       [' ', ' ', ' ', ' ', ' ', ' ', ' ', ' ', ' ', ' '],\n",
       "       [' ', ' ', ' ', ' ', ' ', ' ', ' ', ' ', ' ', ' '],\n",
       "       [' ', ' ', ' ', ' ', ' ', ' ', ' ', ' ', ' ', ' '],\n",
       "       [' ', ' ', ' ', ' ', ' ', ' ', ' ', ' ', ' ', ' ']], dtype='<U1')"
      ]
     },
     "execution_count": 125,
     "metadata": {},
     "output_type": "execute_result"
    }
   ],
   "source": [
    "import numpy as np\n",
    "import random\n",
    "tablero = np.full((10,10), \" \")\n",
    "\n",
    "coord_fila = np.random.randint(0, 10)\n",
    "coord_col = np.random.randint(0, 10)\n",
    "\n",
    "tamano_barco3 = 3\n",
    "hv = np.random.choice([\"v\", \"h\"])\n",
    "hv\n",
    "\n",
    "print(f\"La fila es {coord_fila}, la columna y es {coord_col}, el barco está en {hv}\")\n",
    "\n",
    "longitud_x = coord_col + tamano_barco3\n",
    "longitud_y = coord_fila + tamano_barco3\n",
    "\n",
    "#CONDICIONES PARA QUE NO SE SALGA EL BARCO DEL TABLERO\n",
    "while (longitud_x > 9) or (longitud_x < 0):\n",
    "        coord_col = np.random.randint(0, 11-tamano_barco3)          #el 11 es excluyente. Si pongo 10 y le resto el tamaño de barco, nunca llegará el barco a tocar la columna 9 que sería la última\n",
    "        longitud_x = coord_col + tamano_barco3                      #así nos evitamos cambiar el código de este randint por cada barco\n",
    "        print(\"Se ha metido por el primer IF\")\n",
    "\n",
    "while (longitud_y > 9) or (longitud_y < 0):\n",
    "        coord_fila = np.random.randint(0, 11-tamano_barco3)\n",
    "        longitud_y = coord_fila + tamano_barco3\n",
    "        print(\"Se ha metido por el segundo IF\")\n",
    "\n",
    "\n",
    "#PARA MOSTRAR BARCO EN TABLERO   \n",
    "if hv == \"h\":\n",
    "    print(\"Ha salido horizontal\")\n",
    "    tablero[coord_fila, coord_col:longitud_x] = 'B'\n",
    "elif hv == \"v\":\n",
    "    print(\"Ha salido vertical\")\n",
    "    tablero[coord_fila:longitud_y, coord_col] = 'B'\n",
    "\n",
    "tablero"
   ]
  },
  {
   "cell_type": "markdown",
   "metadata": {},
   "source": [
    "Aquí te he quitado de dentro de los whiles lo del 11"
   ]
  },
  {
   "cell_type": "code",
   "execution_count": 154,
   "metadata": {},
   "outputs": [
    {
     "name": "stdout",
     "output_type": "stream",
     "text": [
      "La fila es 9, la columna y es 8, el barco está en v\n",
      "Se ha metido por el primer IF\n",
      "Se ha metido por el primer IF\n",
      "Se ha metido por el segundo IF\n",
      "Ha salido vertical\n"
     ]
    },
    {
     "data": {
      "text/plain": [
       "array([[' ', ' ', 'B', ' ', ' ', ' ', ' ', ' ', ' ', ' '],\n",
       "       [' ', ' ', 'B', ' ', ' ', ' ', ' ', ' ', ' ', ' '],\n",
       "       [' ', ' ', 'B', ' ', ' ', ' ', ' ', ' ', ' ', ' '],\n",
       "       [' ', ' ', ' ', ' ', ' ', ' ', ' ', ' ', ' ', ' '],\n",
       "       [' ', ' ', ' ', ' ', ' ', ' ', ' ', ' ', ' ', ' '],\n",
       "       [' ', ' ', ' ', ' ', ' ', ' ', ' ', ' ', ' ', ' '],\n",
       "       [' ', ' ', ' ', ' ', ' ', ' ', ' ', ' ', ' ', ' '],\n",
       "       [' ', ' ', ' ', ' ', ' ', ' ', ' ', ' ', ' ', ' '],\n",
       "       [' ', ' ', ' ', ' ', ' ', ' ', ' ', ' ', ' ', ' '],\n",
       "       [' ', ' ', ' ', ' ', ' ', ' ', ' ', ' ', ' ', ' ']], dtype='<U1')"
      ]
     },
     "execution_count": 154,
     "metadata": {},
     "output_type": "execute_result"
    }
   ],
   "source": [
    "import numpy as np\n",
    "import random\n",
    "tablero = np.full((10,10), \" \")\n",
    "\n",
    "coord_fila = np.random.randint(0, 10)\n",
    "coord_col = np.random.randint(0, 10)\n",
    "\n",
    "tamano_barco3 = 3\n",
    "hv = np.random.choice([\"v\", \"h\"])\n",
    "hv\n",
    "\n",
    "print(f\"La fila es {coord_fila}, la columna y es {coord_col}, el barco está en {hv}\")\n",
    "\n",
    "longitud_x = coord_col + tamano_barco3\n",
    "longitud_y = coord_fila + tamano_barco3\n",
    "\n",
    "#CONDICIONES PARA QUE NO SE SALGA EL BARCO DEL TABLERO\n",
    "while (longitud_x > 9) or (longitud_x < 0):\n",
    "        coord_col = np.random.randint(0, 10)          #el 11 es excluyente. Si pongo 10 y le resto el tamaño de barco, nunca llegará el barco a tocar la columna 9 que sería la última\n",
    "        longitud_x = coord_col + tamano_barco3                      #así nos evitamos cambiar el código de este randint por cada barco\n",
    "        print(\"Se ha metido por el primer IF\")\n",
    "\n",
    "while (longitud_y > 9) or (longitud_y < 0):\n",
    "        coord_fila = np.random.randint(0, 10)\n",
    "        longitud_y = coord_fila + tamano_barco3\n",
    "        print(\"Se ha metido por el segundo IF\")\n",
    "\n",
    "\n",
    "#PARA MOSTRAR BARCO EN TABLERO   \n",
    "if hv == \"h\":\n",
    "    print(\"Ha salido horizontal\")\n",
    "    tablero[coord_fila, coord_col:longitud_x] = 'B'\n",
    "elif hv == \"v\":\n",
    "    print(\"Ha salido vertical\")\n",
    "    tablero[coord_fila:longitud_y, coord_col] = 'B'\n",
    "\n",
    "tablero"
   ]
  },
  {
   "cell_type": "markdown",
   "metadata": {},
   "source": [
    "Voy a intentar colocar otro barco, creo que habria que crear un funcion que llame al tamaño del barco"
   ]
  },
  {
   "cell_type": "code",
   "execution_count": null,
   "metadata": {},
   "outputs": [],
   "source": [
    "import numpy as np\n",
    "import random\n",
    "tablero = np.full((10,10), \" \")\n",
    "posiciones_de_barcos = []\n",
    "\n",
    "def coloca_barcos():\n",
    "\n",
    "    coord_fila = np.random.randint(0, 10)\n",
    "    coord_col = np.random.randint(0, 10)\n",
    "   \n",
    "\n",
    "    tamano_barco3 = 3\n",
    "    hv = np.random.choice([\"v\", \"h\"])\n",
    "    hv\n",
    "\n",
    "    print(f\"La fila es {coord_fila}, la columna y es {coord_col}, el barco está en {hv}\")\n",
    "    longitud_x = coord_col + tamano_barco3\n",
    "    longitud_y = coord_fila + tamano_barco3\n",
    "\n",
    "    \n",
    "    #CONDICIONES PARA QUE NO SE SALGA EL BARCO DEL TABLERO\n",
    "    while (longitud_x > 9) or (longitud_x < 0):\n",
    "            coord_col = np.random.randint(0, 10)          #el 11 es excluyente. Si pongo 10 y le resto el tamaño de barco, nunca llegará el barco a tocar la columna 9 que sería la última\n",
    "            longitud_x = coord_col + tamano_barco3                      #así nos evitamos cambiar el código de este randint por cada barco\n",
    "            print(\"Se ha metido por el primer IF\")\n",
    "\n",
    "    while (longitud_y > 9) or (longitud_y < 0):\n",
    "            coord_fila = np.random.randint(0, 10)\n",
    "            longitud_y = coord_fila + tamano_barco3\n",
    "            print(\"Se ha metido por el segundo IF\")\n",
    "\n",
    "    else:\n",
    "           \n",
    "\n",
    "    #PARA MOSTRAR BARCO EN TABLERO   \n",
    "    if hv == \"h\":\n",
    "            print(\"Ha salido horizontal\")\n",
    "            tablero[coord_fila, coord_col:longitud_x] = 'B'\n",
    "    elif hv == \"v\":\n",
    "            print(\"Ha salido vertical\")\n",
    "            tablero[coord_fila:longitud_y, coord_col] = 'B'\n",
    "\n",
    "    #GUARDAR LA POSICION DEL BARCO COLOCADO\n",
    "    posiciones_de_barcos.append(((coord_fila, coord_col), (longitud_y, longitud_x)))\n",
    "\n",
    "\n",
    "tamaño_de_barcos=[4,3,3,2,2,2,1,1,1,1]\n",
    "\n",
    "for tamaño in tamaño_de_barcos:\n",
    "    coloca_barcos(tamaño)\n",
    "    \n",
    "\n",
    "tablero"
   ]
  },
  {
   "cell_type": "code",
   "execution_count": null,
   "metadata": {},
   "outputs": [],
   "source": [
    "\n",
    "#LO MIRAMOS MAÑANA PERO CREO QUE SERIA INTERESANTE PONER ALGO DE DE ESTE ESTILO Y PONER EL WHILE JUSTO AL EMPEZAR LA FUNCION\n",
    "if hv == \"h\":\n",
    "            longitud_x = coord_col + tamaño\n",
    "            if longitud_x >= 10:\n",
    "                continue\n",
    "            if np.any(tablero[coord_fila, coord_col:longitud_x] != ' '):\n",
    "                continue"
   ]
  }
 ],
 "metadata": {
  "kernelspec": {
   "display_name": "eda_nv",
   "language": "python",
   "name": "python3"
  },
  "language_info": {
   "codemirror_mode": {
    "name": "ipython",
    "version": 3
   },
   "file_extension": ".py",
   "mimetype": "text/x-python",
   "name": "python",
   "nbconvert_exporter": "python",
   "pygments_lexer": "ipython3",
   "version": "3.9.18"
  },
  "orig_nbformat": 4
 },
 "nbformat": 4,
 "nbformat_minor": 2
}
