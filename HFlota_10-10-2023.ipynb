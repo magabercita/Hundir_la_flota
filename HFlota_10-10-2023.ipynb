{
 "cells": [
  {
   "cell_type": "code",
   "execution_count": null,
   "metadata": {},
   "outputs": [
    {
     "name": "stdout",
     "output_type": "stream",
     "text": [
      "He entrado en bucle for\n",
      "La fila es 7, la columna y es 3, el barco está en h\n",
      "Ha salido horizontal\n",
      "He entrado en bucle for\n",
      "La fila es 1, la columna y es 1, el barco está en h\n",
      "Ha salido horizontal\n"
     ]
    },
    {
     "data": {
      "text/plain": [
       "array([[' ', ' ', ' ', ' ', ' ', ' ', ' ', ' ', ' ', ' '],\n",
       "       [' ', 'B', 'B', 'B', ' ', ' ', ' ', ' ', ' ', ' '],\n",
       "       [' ', ' ', ' ', ' ', ' ', ' ', ' ', ' ', ' ', ' '],\n",
       "       [' ', ' ', ' ', ' ', ' ', ' ', ' ', ' ', ' ', ' '],\n",
       "       [' ', ' ', ' ', ' ', ' ', ' ', ' ', ' ', ' ', ' '],\n",
       "       [' ', ' ', ' ', ' ', ' ', ' ', ' ', ' ', ' ', ' '],\n",
       "       [' ', ' ', ' ', ' ', ' ', ' ', ' ', ' ', ' ', ' '],\n",
       "       [' ', ' ', ' ', 'B', 'B', 'B', 'B', ' ', ' ', ' '],\n",
       "       [' ', ' ', ' ', ' ', ' ', ' ', ' ', ' ', ' ', ' '],\n",
       "       [' ', ' ', ' ', ' ', ' ', ' ', ' ', ' ', ' ', ' ']], dtype='<U1')"
      ]
     },
     "metadata": {},
     "output_type": "display_data"
    }
   ],
   "source": [
    "#10-10-2023 DANI\n",
    "\n",
    "import numpy as np\n",
    "import random\n",
    "tablero = np.full((10,10), \" \")\n",
    "\n",
    " \n",
    "tamano_de_barcos = [4,3]\n",
    "for tamano in tamano_de_barcos:\n",
    "    print('He entrado en bucle for')\n",
    "    coord_fila = np.random.randint(0, 10)\n",
    "    coord_col = np.random.randint(0, 10)\n",
    "\n",
    "    # hv = np.random.choice([\"v\", \"h\"])\n",
    "    hv = 'h'\n",
    "    hv\n",
    "\n",
    "    print(f\"La fila es {coord_fila}, la columna y es {coord_col}, el barco está en {hv}\")\n",
    "    longitud_x = coord_col + tamano\n",
    "    longitud_y = coord_fila + tamano\n",
    "\n",
    "    choque = np.any(tablero[coord_fila, coord_col:longitud_x] != ' ')    \n",
    "\n",
    "    #PARA MOSTRAR BARCO EN TABLERO y CONDICIONES PARA QUE NO SE SALGA EL BARCO DEL TABLERO\n",
    "    if hv == \"h\":\n",
    "        \n",
    "            while True:\n",
    "                if (longitud_x > 9) or (longitud_x < 0) and choque:\n",
    "                    coord_col = np.random.randint(0, 11-tamano)          #el 11 es excluyente. Si pongo 10 y le resto el tamaño de barco, nunca llegará el barco a tocar la columna 9 que sería la última\n",
    "                    longitud_x = coord_col + tamano                     #así nos evitamos cambiar el código de este randint por cada barco\n",
    "                    print(\"Se ha metido por el primer IF\")\n",
    "                    continue\n",
    "\n",
    "                print(\"Ha salido horizontal\")\n",
    "                tablero[coord_fila, coord_col:longitud_x] = 'B'\n",
    "                break\n",
    "            \n",
    "    elif hv == \"v\":     \n",
    "            # if np.any(tablero[coord_fila, coord_col:longitud_x] != ' '):\n",
    "            #     continue    \n",
    "            while (longitud_y > 9) or (longitud_y < 0) and choque:\n",
    "                coord_fila = np.random.randint(0, 11-tamano)\n",
    "                longitud_y = coord_fila + tamano\n",
    "                print(\"Se ha metido por el segundo IF\")\n",
    "                continue\n",
    "\n",
    "            print(\"Ha salido vertical\")\n",
    "            tablero[coord_fila:longitud_y, coord_col] = 'B'\n",
    "\n",
    "    else:\n",
    "        print('Error')\n",
    "\n",
    "tablero"
   ]
  }
 ],
 "metadata": {
  "language_info": {
   "name": "python"
  }
 },
 "nbformat": 4,
 "nbformat_minor": 2
}
